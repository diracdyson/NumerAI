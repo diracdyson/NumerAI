{
  "cells": [
    {
      "cell_type": "code",
      "source": [
        "!cat /proc/cpuinfo"
      ],
      "metadata": {
        "colab": {
          "base_uri": "https://localhost:8080/"
        },
        "id": "3-7jOHVu_cb8",
        "outputId": "ae856314-a280-40c9-bd6c-5f789c73f563"
      },
      "execution_count": 1,
      "outputs": [
        {
          "output_type": "stream",
          "name": "stdout",
          "text": [
            "processor\t: 0\n",
            "vendor_id\t: GenuineIntel\n",
            "cpu family\t: 6\n",
            "model\t\t: 79\n",
            "model name\t: Intel(R) Xeon(R) CPU @ 2.20GHz\n",
            "stepping\t: 0\n",
            "microcode\t: 0xffffffff\n",
            "cpu MHz\t\t: 2199.998\n",
            "cache size\t: 56320 KB\n",
            "physical id\t: 0\n",
            "siblings\t: 4\n",
            "core id\t\t: 0\n",
            "cpu cores\t: 2\n",
            "apicid\t\t: 0\n",
            "initial apicid\t: 0\n",
            "fpu\t\t: yes\n",
            "fpu_exception\t: yes\n",
            "cpuid level\t: 13\n",
            "wp\t\t: yes\n",
            "flags\t\t: fpu vme de pse tsc msr pae mce cx8 apic sep mtrr pge mca cmov pat pse36 clflush mmx fxsr sse sse2 ss ht syscall nx pdpe1gb rdtscp lm constant_tsc rep_good nopl xtopology nonstop_tsc cpuid tsc_known_freq pni pclmulqdq ssse3 fma cx16 pcid sse4_1 sse4_2 x2apic movbe popcnt aes xsave avx f16c rdrand hypervisor lahf_lm abm 3dnowprefetch invpcid_single ssbd ibrs ibpb stibp fsgsbase tsc_adjust bmi1 hle avx2 smep bmi2 erms invpcid rtm rdseed adx smap xsaveopt arat md_clear arch_capabilities\n",
            "bugs\t\t: cpu_meltdown spectre_v1 spectre_v2 spec_store_bypass l1tf mds swapgs taa mmio_stale_data retbleed\n",
            "bogomips\t: 4399.99\n",
            "clflush size\t: 64\n",
            "cache_alignment\t: 64\n",
            "address sizes\t: 46 bits physical, 48 bits virtual\n",
            "power management:\n",
            "\n",
            "processor\t: 1\n",
            "vendor_id\t: GenuineIntel\n",
            "cpu family\t: 6\n",
            "model\t\t: 79\n",
            "model name\t: Intel(R) Xeon(R) CPU @ 2.20GHz\n",
            "stepping\t: 0\n",
            "microcode\t: 0xffffffff\n",
            "cpu MHz\t\t: 2199.998\n",
            "cache size\t: 56320 KB\n",
            "physical id\t: 0\n",
            "siblings\t: 4\n",
            "core id\t\t: 1\n",
            "cpu cores\t: 2\n",
            "apicid\t\t: 2\n",
            "initial apicid\t: 2\n",
            "fpu\t\t: yes\n",
            "fpu_exception\t: yes\n",
            "cpuid level\t: 13\n",
            "wp\t\t: yes\n",
            "flags\t\t: fpu vme de pse tsc msr pae mce cx8 apic sep mtrr pge mca cmov pat pse36 clflush mmx fxsr sse sse2 ss ht syscall nx pdpe1gb rdtscp lm constant_tsc rep_good nopl xtopology nonstop_tsc cpuid tsc_known_freq pni pclmulqdq ssse3 fma cx16 pcid sse4_1 sse4_2 x2apic movbe popcnt aes xsave avx f16c rdrand hypervisor lahf_lm abm 3dnowprefetch invpcid_single ssbd ibrs ibpb stibp fsgsbase tsc_adjust bmi1 hle avx2 smep bmi2 erms invpcid rtm rdseed adx smap xsaveopt arat md_clear arch_capabilities\n",
            "bugs\t\t: cpu_meltdown spectre_v1 spectre_v2 spec_store_bypass l1tf mds swapgs taa mmio_stale_data retbleed\n",
            "bogomips\t: 4399.99\n",
            "clflush size\t: 64\n",
            "cache_alignment\t: 64\n",
            "address sizes\t: 46 bits physical, 48 bits virtual\n",
            "power management:\n",
            "\n",
            "processor\t: 2\n",
            "vendor_id\t: GenuineIntel\n",
            "cpu family\t: 6\n",
            "model\t\t: 79\n",
            "model name\t: Intel(R) Xeon(R) CPU @ 2.20GHz\n",
            "stepping\t: 0\n",
            "microcode\t: 0xffffffff\n",
            "cpu MHz\t\t: 2199.998\n",
            "cache size\t: 56320 KB\n",
            "physical id\t: 0\n",
            "siblings\t: 4\n",
            "core id\t\t: 0\n",
            "cpu cores\t: 2\n",
            "apicid\t\t: 1\n",
            "initial apicid\t: 1\n",
            "fpu\t\t: yes\n",
            "fpu_exception\t: yes\n",
            "cpuid level\t: 13\n",
            "wp\t\t: yes\n",
            "flags\t\t: fpu vme de pse tsc msr pae mce cx8 apic sep mtrr pge mca cmov pat pse36 clflush mmx fxsr sse sse2 ss ht syscall nx pdpe1gb rdtscp lm constant_tsc rep_good nopl xtopology nonstop_tsc cpuid tsc_known_freq pni pclmulqdq ssse3 fma cx16 pcid sse4_1 sse4_2 x2apic movbe popcnt aes xsave avx f16c rdrand hypervisor lahf_lm abm 3dnowprefetch invpcid_single ssbd ibrs ibpb stibp fsgsbase tsc_adjust bmi1 hle avx2 smep bmi2 erms invpcid rtm rdseed adx smap xsaveopt arat md_clear arch_capabilities\n",
            "bugs\t\t: cpu_meltdown spectre_v1 spectre_v2 spec_store_bypass l1tf mds swapgs taa mmio_stale_data retbleed\n",
            "bogomips\t: 4399.99\n",
            "clflush size\t: 64\n",
            "cache_alignment\t: 64\n",
            "address sizes\t: 46 bits physical, 48 bits virtual\n",
            "power management:\n",
            "\n",
            "processor\t: 3\n",
            "vendor_id\t: GenuineIntel\n",
            "cpu family\t: 6\n",
            "model\t\t: 79\n",
            "model name\t: Intel(R) Xeon(R) CPU @ 2.20GHz\n",
            "stepping\t: 0\n",
            "microcode\t: 0xffffffff\n",
            "cpu MHz\t\t: 2199.998\n",
            "cache size\t: 56320 KB\n",
            "physical id\t: 0\n",
            "siblings\t: 4\n",
            "core id\t\t: 1\n",
            "cpu cores\t: 2\n",
            "apicid\t\t: 3\n",
            "initial apicid\t: 3\n",
            "fpu\t\t: yes\n",
            "fpu_exception\t: yes\n",
            "cpuid level\t: 13\n",
            "wp\t\t: yes\n",
            "flags\t\t: fpu vme de pse tsc msr pae mce cx8 apic sep mtrr pge mca cmov pat pse36 clflush mmx fxsr sse sse2 ss ht syscall nx pdpe1gb rdtscp lm constant_tsc rep_good nopl xtopology nonstop_tsc cpuid tsc_known_freq pni pclmulqdq ssse3 fma cx16 pcid sse4_1 sse4_2 x2apic movbe popcnt aes xsave avx f16c rdrand hypervisor lahf_lm abm 3dnowprefetch invpcid_single ssbd ibrs ibpb stibp fsgsbase tsc_adjust bmi1 hle avx2 smep bmi2 erms invpcid rtm rdseed adx smap xsaveopt arat md_clear arch_capabilities\n",
            "bugs\t\t: cpu_meltdown spectre_v1 spectre_v2 spec_store_bypass l1tf mds swapgs taa mmio_stale_data retbleed\n",
            "bogomips\t: 4399.99\n",
            "clflush size\t: 64\n",
            "cache_alignment\t: 64\n",
            "address sizes\t: 46 bits physical, 48 bits virtual\n",
            "power management:\n",
            "\n"
          ]
        }
      ]
    },
    {
      "cell_type": "code",
      "execution_count": 2,
      "metadata": {
        "colab": {
          "base_uri": "https://localhost:8080/"
        },
        "id": "r7y8_VLAmtt0",
        "outputId": "57e17204-d60a-42b5-b0b7-c0cca931a606"
      },
      "outputs": [
        {
          "output_type": "stream",
          "name": "stdout",
          "text": [
            "number of features 310\n"
          ]
        }
      ],
      "source": [
        "\n",
        "import pandas as pd\n",
        "import numpy as np\n",
        "import seaborn as sns\n",
        "training_data = pd.read_csv(\"https://numerai-public-datasets.s3-us-west-2.amazonaws.com/latest_numerai_training_data.csv.xz\")\n",
        "#validation_data = pd.read_csv(\"https://numerai-public-datasets.s3-us-west-2.amazonaws.com/latest_numerai_validation_data.csv.xz\")\n",
        "tournament_data = pd.read_csv(\"https://numerai-public-datasets.s3-us-west-2.amazonaws.com/latest_numerai_tournament_data.csv.xz\")\n",
        "\n",
        "X_train= training_data.drop(['id','data_type','target'],axis=1)\n",
        "y_train=training_data['target']\n",
        "\n",
        "#X_val = validation_data.drop(['id','data_type','target'],axis=1)\n",
        "#y_val = validation_data['target']\n",
        "\n",
        "X_test=tournament_data.drop(['id','data_type'],axis =  1 )\n",
        "\n",
        "\n",
        "print(\"number of features {}\".format(len(training_data.columns)-4))\n",
        "#print(\"ratio of val to train {}\".format(len(y_val)/len(y_train)))"
      ]
    },
    {
      "cell_type": "code",
      "execution_count": 3,
      "metadata": {
        "id": "MHEVRXwiqaK9"
      },
      "outputs": [],
      "source": [
        "#from pandas.core.groupby.generic import DataFrameGroupBy\n",
        "#from sklearn.preprocessing import MinMaxScaler\n",
        "#def get_group_stats(df: pd.DataFrame) -> pd.DataFrame:\n",
        "#        for group in [\"intelligence\", \"wisdom\", \"charisma\", \"dexterity\", \"strength\", \"constitution\"]:\n",
        "#            cols = [col for col in df.columns if group in col]\n",
        "#            df[f\"feature_{group}_mean\"] = df[cols].mean(axis=1)\n",
        "#            df[f\"feature_{group}_std\"] = df[cols].std(axis=1)\n",
        "#            df[f\"feature_{group}_skew\"] = df[cols].skew(axis=1)\n",
        "#        return df\n",
        "\n",
        "#def min_max_stats(df: pd.DataFrame) -> pd.DataFrame:\n",
        "#        mini=MinMaxScaler()\n",
        "#        for group in [\"intelligence\", \"wisdom\", \"charisma\", \"dexterity\", \"strength\", \"constitution\"]:\n",
        "#            df[f\"feature_{group}_mean\"] = mini.fit_transform(df[f\"feature_{group}_mean\"].values.reshape(-1,1))\n",
        "#            df[f\"feature_{group}_std\"] = mini.fit_transform(df[f\"feature_{group}_std\"].values.reshape(-1,1))\n",
        "#            df[f\"feature_{group}_skew\"] = mini.fit_transform(df[f\"feature_{group}_skew\"].values.reshape(-1,1))\n",
        "#        return df \n",
        "\n",
        "import scipy\n",
        "from sklearn.preprocessing import LabelEncoder\n",
        "\n",
        "def eraencode(df,col):\n",
        "    lb=LabelEncoder()\n",
        "    df[col]=lb.fit_transform(df[col])\n",
        "    return df\n",
        "\n",
        "def interpscale(arr,minv,maxv):\n",
        "    return np.interp(arr,(np.min(minv),np.max(maxv)),(minv,maxv))\n",
        "\n",
        "\n",
        "def _neutralize(df, preds, proportion):\n",
        "    scores = preds\n",
        "    exposures = df.values\n",
        "    scores = scores - proportion * exposures.dot(np.linalg.pinv(exposures).dot(scores))\n",
        "    return scores / scores.std()\n",
        "def _normalize(df):\n",
        "    X = (df.rank(method=\"first\") - 0.5) / len(df)\n",
        "    return scipy.stats.norm.ppf(X)\n",
        "def normalize_and_neutralize(df, preds, feats, proportion=1.0):\n",
        "    # Convert the scores to a normal distribution\n",
        "    df[preds] = _normalize(df[preds])\n",
        "    df[preds] = _neutralize(df, preds, feats, proportion)\n",
        "    return df[preds]\n",
        "def ar1(x):\n",
        "    return np.corrcoef(x[:-1], x[1:])[0,1]\n",
        "\n",
        "def autocorr_penalty(x):\n",
        "    n = len(x)\n",
        "    p = np.abs(ar1(x))\n",
        "    return np.sqrt(1 + 2*np.sum([((n - i)/n)*p**i for i in range(1,n)]))\n",
        "\n",
        "def smart_sharpe(x):\n",
        "    return (np.mean(x)/(np.std(x, ddof=1) * autocorr_penalty(x)) * np.sqrt(12))\n",
        "\n",
        "def numerai_sharpe(x):\n",
        "    return ((np.mean(x) - 0.010415154) / np.std(x)) * np.sqrt(12)\n",
        "\n",
        "def correlation_score(y_true, y_pred):\n",
        "    return np.corrcoef(y_true, y_pred)[0,1]\n",
        "\n",
        "\n",
        "# spread out target to 1, 2, 3, 4\n",
        "train=eraencode(X_train,'era')\n",
        "#val=eraencode(X_val,'era')\n",
        "test=eraencode(X_test,'era')\n",
        "\n",
        "\n",
        "y_train_int= (y_train *4).astype(np.int32)\n",
        "#y_val_int = (y_val*4).astype(np.int32)\n",
        "\n",
        "\n",
        "\n",
        "#trainm= min_max_stats(train)\n",
        "#valm=min_max_stats(val)"
      ]
    },
    {
      "cell_type": "code",
      "execution_count": 4,
      "metadata": {
        "id": "ZwqWdNB1qwYN",
        "colab": {
          "base_uri": "https://localhost:8080/"
        },
        "outputId": "e8b0ee69-40c4-48c5-c9c2-0fcf3e6b4cd2"
      },
      "outputs": [
        {
          "output_type": "execute_result",
          "data": {
            "text/plain": [
              "era                      34.907755\n",
              "feature_wisdom29          0.353596\n",
              "feature_charisma83        0.353596\n",
              "feature_intelligence4     0.353596\n",
              "feature_intelligence1     0.353596\n",
              "                           ...    \n",
              "feature_strength17        0.284223\n",
              "feature_charisma47        0.265371\n",
              "feature_charisma25        0.265371\n",
              "feature_strength38        0.180383\n",
              "feature_strength20        0.180383\n",
              "Length: 311, dtype: float64"
            ]
          },
          "metadata": {},
          "execution_count": 4
        }
      ],
      "source": [
        "sd = train.std().sort_values(ascending = False)\n",
        "sd"
      ]
    },
    {
      "cell_type": "code",
      "execution_count": 5,
      "metadata": {
        "id": "8CbGKXvIq8kr"
      },
      "outputs": [],
      "source": [
        "highsdcol=sd[sd > 0.345].index"
      ]
    },
    {
      "cell_type": "code",
      "execution_count": 6,
      "metadata": {
        "id": "V1cgPps2q_B-"
      },
      "outputs": [],
      "source": [
        "train2=train[highsdcol]\n",
        "#val2=val[highsdcol]\n",
        "test2=test[highsdcol]"
      ]
    },
    {
      "cell_type": "code",
      "execution_count": 7,
      "metadata": {
        "id": "EAceBpHnMfTG",
        "colab": {
          "base_uri": "https://localhost:8080/"
        },
        "outputId": "4e81a491-33b1-48d2-ef43-d23ef010e184"
      },
      "outputs": [
        {
          "output_type": "stream",
          "name": "stdout",
          "text": [
            "Looking in indexes: https://pypi.org/simple, https://us-python.pkg.dev/colab-wheels/public/simple/\n",
            "Requirement already satisfied: catboost in /usr/local/lib/python3.8/dist-packages (1.1.1)\n",
            "Requirement already satisfied: lightgbm in /usr/local/lib/python3.8/dist-packages (2.2.3)\n",
            "Requirement already satisfied: plotly in /usr/local/lib/python3.8/dist-packages (from catboost) (5.5.0)\n",
            "Requirement already satisfied: pandas>=0.24.0 in /usr/local/lib/python3.8/dist-packages (from catboost) (1.3.5)\n",
            "Requirement already satisfied: six in /usr/local/lib/python3.8/dist-packages (from catboost) (1.15.0)\n",
            "Requirement already satisfied: numpy>=1.16.0 in /usr/local/lib/python3.8/dist-packages (from catboost) (1.21.6)\n",
            "Requirement already satisfied: scipy in /usr/local/lib/python3.8/dist-packages (from catboost) (1.7.3)\n",
            "Requirement already satisfied: graphviz in /usr/local/lib/python3.8/dist-packages (from catboost) (0.10.1)\n",
            "Requirement already satisfied: matplotlib in /usr/local/lib/python3.8/dist-packages (from catboost) (3.2.2)\n",
            "Requirement already satisfied: scikit-learn in /usr/local/lib/python3.8/dist-packages (from lightgbm) (1.0.2)\n",
            "Requirement already satisfied: python-dateutil>=2.7.3 in /usr/local/lib/python3.8/dist-packages (from pandas>=0.24.0->catboost) (2.8.2)\n",
            "Requirement already satisfied: pytz>=2017.3 in /usr/local/lib/python3.8/dist-packages (from pandas>=0.24.0->catboost) (2022.7)\n",
            "Requirement already satisfied: kiwisolver>=1.0.1 in /usr/local/lib/python3.8/dist-packages (from matplotlib->catboost) (1.4.4)\n",
            "Requirement already satisfied: pyparsing!=2.0.4,!=2.1.2,!=2.1.6,>=2.0.1 in /usr/local/lib/python3.8/dist-packages (from matplotlib->catboost) (3.0.9)\n",
            "Requirement already satisfied: cycler>=0.10 in /usr/local/lib/python3.8/dist-packages (from matplotlib->catboost) (0.11.0)\n",
            "Requirement already satisfied: tenacity>=6.2.0 in /usr/local/lib/python3.8/dist-packages (from plotly->catboost) (8.1.0)\n",
            "Requirement already satisfied: joblib>=0.11 in /usr/local/lib/python3.8/dist-packages (from scikit-learn->lightgbm) (1.2.0)\n",
            "Requirement already satisfied: threadpoolctl>=2.0.0 in /usr/local/lib/python3.8/dist-packages (from scikit-learn->lightgbm) (3.1.0)\n"
          ]
        }
      ],
      "source": [
        "!pip install catboost lightgbm"
      ]
    },
    {
      "cell_type": "code",
      "execution_count": null,
      "metadata": {
        "id": "FxkJcCc_BJfV"
      },
      "outputs": [],
      "source": [
        "from catboost import CatBoostRegressor\n",
        "from lightgbm import LGBMRegressor as lgb\n",
        "from sklearn.model_selection import KFold, GridSearchCV\n",
        "%timeit\n",
        "def ensemble_train_val_predict(init_paramsc,init_paramsl,gridc,gridl,X_train,y_train,X_test,Npochs = 1,N_Fold= 10,cvl=4,modelsb=True):\n",
        "    \n",
        "    catjawn=CatBoostRegressor(**init_paramsc)\n",
        "    lg = lgb(**init_paramsl)\n",
        "    \n",
        "    if modelsb:\n",
        "        models= [ ]\n",
        "    \n",
        "    pred_c=np.zeros(len(X_test['era'].values.reshape(-1,1)))\n",
        "    pred_l=np.zeros( len(X_test['era'].values.reshape( -1,1)))\n",
        "    \n",
        "    k = KFold(N_Fold)\n",
        "    \n",
        "    for i in range(Npochs):\n",
        "        for fold_, (tr_idx,val_idx) in enumerate(k.split(X_train,y_train)):\n",
        "            \n",
        "           # gcv = catjawn.grid_search(gridc, X_train,y_train,\n",
        "                                   #   cv=(tr_idx,val_idx))\n",
        "            \n",
        "            glg= GridSearchCV(estimator=lg,param_grid=gridl)\n",
        "            glg.fit(X_train.iloc[tr_idx],y_train.iloc[tr_idx])\n",
        "       #     \n",
        "       #     print(\"for CatBoostReg @ {} Fold the Training Corr is { }\".format(fold_,correlation_score(y_train[tr_idx],gcv.predict(X_train[tr_idx]))))\n",
        "      #      print(\"for CatBoostReg @ {} Fold the Val Corr is {}\".format(fold_,correlation_score(y_train[val_idx],gcv.predict(X_train[val_idx]))))\n",
        "\n",
        "            print(\" for light gbm @ {} Fold the Training Corr is { }\".format(fold_,correlation_score(y_train[tr_idx],glg.predict(X_train[tr_idx]))))\n",
        "            print(\"for light gbm @ {} Fold the Val Corr is {}\".format(fold_,correlation_score(y_train[val_idx],glg.predict(X_train[val_idx]))))\n",
        "\n",
        "            \n",
        "\n",
        "            \n",
        "      #      pred_c+= gcv.predict(X_test)/N_Fold\n",
        "            pred_l+= glg.predict(X_test)/N_Fold\n",
        "            if modelsb:\n",
        "              #  models.append(catjawn)\n",
        "                models.append(glg)\n",
        "    \n",
        " ##   pred1=np.mean ([pred_c,pred_l],axis = 0)\n",
        "    pred2=interpscale(pred_l,0 ,1 )\n",
        "    return models, pred2\n",
        "\n",
        "\n",
        "\n",
        "init_paramsl = {\n",
        "    'metric':'mse',\n",
        "    'max_depth': 10\n",
        "}\n",
        "\n",
        "init_paramsc={ 'loss_function':'RMSE'}\n",
        "\n",
        "gridc = {\n",
        "    'learning_rate': [0.03, 0.01, 0.03, 0.009],\n",
        "   'bootstrap_type':['Bayesian'],\n",
        "    'bagging_temperature': [0, 1, 10]}\n",
        "\n",
        "gridl ={'reg_alpha': [0.1, 0.5],\n",
        "    'lambda_l1': [0, 1, 1.5],\n",
        "    'lambda_l2': [0, 1]\n",
        "    }\n",
        "\n",
        "\n",
        "ensemble_train_val_predict(init_paramsc,init_paramsl,gridc,gridl,train2,y_train.astype('float'),test2)\n"
      ]
    },
    {
      "cell_type": "code",
      "execution_count": null,
      "metadata": {
        "id": "EMvkIImfMoWV"
      },
      "outputs": [],
      "source": []
    }
  ],
  "metadata": {
    "colab": {
      "machine_shape": "hm",
      "provenance": []
    },
    "kernelspec": {
      "display_name": "Python 3",
      "name": "python3"
    }
  },
  "nbformat": 4,
  "nbformat_minor": 0
}