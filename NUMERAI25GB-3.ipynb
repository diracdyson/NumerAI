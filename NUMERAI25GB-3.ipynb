{
  "cells": [
    {
      "cell_type": "code",
      "execution_count": null,
      "metadata": {
        "colab": {
          "base_uri": "https://localhost:8080/"
        },
        "id": "3-7jOHVu_cb8",
        "outputId": "e8d1928f-98a1-42ff-bea8-ed646dda9fb6"
      },
      "outputs": [
        {
          "output_type": "stream",
          "name": "stdout",
          "text": [
            "processor\t: 0\n",
            "vendor_id\t: GenuineIntel\n",
            "cpu family\t: 6\n",
            "model\t\t: 79\n",
            "model name\t: Intel(R) Xeon(R) CPU @ 2.20GHz\n",
            "stepping\t: 0\n",
            "microcode\t: 0xffffffff\n",
            "cpu MHz\t\t: 2199.998\n",
            "cache size\t: 56320 KB\n",
            "physical id\t: 0\n",
            "siblings\t: 4\n",
            "core id\t\t: 0\n",
            "cpu cores\t: 2\n",
            "apicid\t\t: 0\n",
            "initial apicid\t: 0\n",
            "fpu\t\t: yes\n",
            "fpu_exception\t: yes\n",
            "cpuid level\t: 13\n",
            "wp\t\t: yes\n",
            "flags\t\t: fpu vme de pse tsc msr pae mce cx8 apic sep mtrr pge mca cmov pat pse36 clflush mmx fxsr sse sse2 ss ht syscall nx pdpe1gb rdtscp lm constant_tsc rep_good nopl xtopology nonstop_tsc cpuid tsc_known_freq pni pclmulqdq ssse3 fma cx16 pcid sse4_1 sse4_2 x2apic movbe popcnt aes xsave avx f16c rdrand hypervisor lahf_lm abm 3dnowprefetch invpcid_single ssbd ibrs ibpb stibp fsgsbase tsc_adjust bmi1 hle avx2 smep bmi2 erms invpcid rtm rdseed adx smap xsaveopt arat md_clear arch_capabilities\n",
            "bugs\t\t: cpu_meltdown spectre_v1 spectre_v2 spec_store_bypass l1tf mds swapgs taa mmio_stale_data retbleed\n",
            "bogomips\t: 4399.99\n",
            "clflush size\t: 64\n",
            "cache_alignment\t: 64\n",
            "address sizes\t: 46 bits physical, 48 bits virtual\n",
            "power management:\n",
            "\n",
            "processor\t: 1\n",
            "vendor_id\t: GenuineIntel\n",
            "cpu family\t: 6\n",
            "model\t\t: 79\n",
            "model name\t: Intel(R) Xeon(R) CPU @ 2.20GHz\n",
            "stepping\t: 0\n",
            "microcode\t: 0xffffffff\n",
            "cpu MHz\t\t: 2199.998\n",
            "cache size\t: 56320 KB\n",
            "physical id\t: 0\n",
            "siblings\t: 4\n",
            "core id\t\t: 1\n",
            "cpu cores\t: 2\n",
            "apicid\t\t: 2\n",
            "initial apicid\t: 2\n",
            "fpu\t\t: yes\n",
            "fpu_exception\t: yes\n",
            "cpuid level\t: 13\n",
            "wp\t\t: yes\n",
            "flags\t\t: fpu vme de pse tsc msr pae mce cx8 apic sep mtrr pge mca cmov pat pse36 clflush mmx fxsr sse sse2 ss ht syscall nx pdpe1gb rdtscp lm constant_tsc rep_good nopl xtopology nonstop_tsc cpuid tsc_known_freq pni pclmulqdq ssse3 fma cx16 pcid sse4_1 sse4_2 x2apic movbe popcnt aes xsave avx f16c rdrand hypervisor lahf_lm abm 3dnowprefetch invpcid_single ssbd ibrs ibpb stibp fsgsbase tsc_adjust bmi1 hle avx2 smep bmi2 erms invpcid rtm rdseed adx smap xsaveopt arat md_clear arch_capabilities\n",
            "bugs\t\t: cpu_meltdown spectre_v1 spectre_v2 spec_store_bypass l1tf mds swapgs taa mmio_stale_data retbleed\n",
            "bogomips\t: 4399.99\n",
            "clflush size\t: 64\n",
            "cache_alignment\t: 64\n",
            "address sizes\t: 46 bits physical, 48 bits virtual\n",
            "power management:\n",
            "\n",
            "processor\t: 2\n",
            "vendor_id\t: GenuineIntel\n",
            "cpu family\t: 6\n",
            "model\t\t: 79\n",
            "model name\t: Intel(R) Xeon(R) CPU @ 2.20GHz\n",
            "stepping\t: 0\n",
            "microcode\t: 0xffffffff\n",
            "cpu MHz\t\t: 2199.998\n",
            "cache size\t: 56320 KB\n",
            "physical id\t: 0\n",
            "siblings\t: 4\n",
            "core id\t\t: 0\n",
            "cpu cores\t: 2\n",
            "apicid\t\t: 1\n",
            "initial apicid\t: 1\n",
            "fpu\t\t: yes\n",
            "fpu_exception\t: yes\n",
            "cpuid level\t: 13\n",
            "wp\t\t: yes\n",
            "flags\t\t: fpu vme de pse tsc msr pae mce cx8 apic sep mtrr pge mca cmov pat pse36 clflush mmx fxsr sse sse2 ss ht syscall nx pdpe1gb rdtscp lm constant_tsc rep_good nopl xtopology nonstop_tsc cpuid tsc_known_freq pni pclmulqdq ssse3 fma cx16 pcid sse4_1 sse4_2 x2apic movbe popcnt aes xsave avx f16c rdrand hypervisor lahf_lm abm 3dnowprefetch invpcid_single ssbd ibrs ibpb stibp fsgsbase tsc_adjust bmi1 hle avx2 smep bmi2 erms invpcid rtm rdseed adx smap xsaveopt arat md_clear arch_capabilities\n",
            "bugs\t\t: cpu_meltdown spectre_v1 spectre_v2 spec_store_bypass l1tf mds swapgs taa mmio_stale_data retbleed\n",
            "bogomips\t: 4399.99\n",
            "clflush size\t: 64\n",
            "cache_alignment\t: 64\n",
            "address sizes\t: 46 bits physical, 48 bits virtual\n",
            "power management:\n",
            "\n",
            "processor\t: 3\n",
            "vendor_id\t: GenuineIntel\n",
            "cpu family\t: 6\n",
            "model\t\t: 79\n",
            "model name\t: Intel(R) Xeon(R) CPU @ 2.20GHz\n",
            "stepping\t: 0\n",
            "microcode\t: 0xffffffff\n",
            "cpu MHz\t\t: 2199.998\n",
            "cache size\t: 56320 KB\n",
            "physical id\t: 0\n",
            "siblings\t: 4\n",
            "core id\t\t: 1\n",
            "cpu cores\t: 2\n",
            "apicid\t\t: 3\n",
            "initial apicid\t: 3\n",
            "fpu\t\t: yes\n",
            "fpu_exception\t: yes\n",
            "cpuid level\t: 13\n",
            "wp\t\t: yes\n",
            "flags\t\t: fpu vme de pse tsc msr pae mce cx8 apic sep mtrr pge mca cmov pat pse36 clflush mmx fxsr sse sse2 ss ht syscall nx pdpe1gb rdtscp lm constant_tsc rep_good nopl xtopology nonstop_tsc cpuid tsc_known_freq pni pclmulqdq ssse3 fma cx16 pcid sse4_1 sse4_2 x2apic movbe popcnt aes xsave avx f16c rdrand hypervisor lahf_lm abm 3dnowprefetch invpcid_single ssbd ibrs ibpb stibp fsgsbase tsc_adjust bmi1 hle avx2 smep bmi2 erms invpcid rtm rdseed adx smap xsaveopt arat md_clear arch_capabilities\n",
            "bugs\t\t: cpu_meltdown spectre_v1 spectre_v2 spec_store_bypass l1tf mds swapgs taa mmio_stale_data retbleed\n",
            "bogomips\t: 4399.99\n",
            "clflush size\t: 64\n",
            "cache_alignment\t: 64\n",
            "address sizes\t: 46 bits physical, 48 bits virtual\n",
            "power management:\n",
            "\n"
          ]
        }
      ],
      "source": [
        "!cat /proc/cpuinfo"
      ]
    },
    {
      "cell_type": "code",
      "execution_count": null,
      "metadata": {
        "colab": {
          "base_uri": "https://localhost:8080/"
        },
        "id": "r7y8_VLAmtt0",
        "outputId": "cbc3db71-4866-4b3e-92df-e8515c12e1c4"
      },
      "outputs": [
        {
          "output_type": "stream",
          "name": "stdout",
          "text": [
            "number of features 310\n"
          ]
        }
      ],
      "source": [
        "\n",
        "\n",
        "import pandas as pd\n",
        "import numpy as np\n",
        "import seaborn as sns\n",
        "training_data = pd.read_csv(\"https://numerai-public-datasets.s3-us-west-2.amazonaws.com/latest_numerai_training_data.csv.xz\")\n",
        "validation_data = pd.read_csv(\"https://numerai-public-datasets.s3-us-west-2.amazonaws.com/latest_numerai_validation_data.csv.xz\")\n",
        "#tournament_data = pd.read_csv(\"https://numerai-public-datasets.s3-us-west-2.amazonaws.com/latest_numerai_tournament_data.csv.xz\")\n",
        "\n",
        "X_train= training_data.drop(['id','data_type','target'],axis=1)\n",
        "y_train=training_data['target']\n",
        "\n",
        "X_val = validation_data.drop(['id','data_type','target'],axis=1)\n",
        "y_val = validation_data['target']\n",
        "\n",
        "#X_test=tournament_data.drop(['id','data_type'],axis =  1 )\n",
        "\n",
        "\n",
        "print(\"number of features {}\".format(len(training_data.columns)-4))\n",
        "#print(\"ratio of val to train {}\".format(len(y_val)/len(y_train)))"
      ]
    },
    {
      "cell_type": "code",
      "execution_count": null,
      "metadata": {
        "id": "MHEVRXwiqaK9"
      },
      "outputs": [],
      "source": [
        "#from pandas.core.groupby.generic import DataFrameGroupBy\n",
        "#from sklearn.preprocessing import MinMaxScaler\n",
        "#def get_group_stats(df: pd.DataFrame) -> pd.DataFrame:\n",
        "#        for group in [\"intelligence\", \"wisdom\", \"charisma\", \"dexterity\", \"strength\", \"constitution\"]:\n",
        "#            cols = [col for col in df.columns if group in col]\n",
        "#            df[f\"feature_{group}_mean\"] = df[cols].mean(axis=1)\n",
        "#            df[f\"feature_{group}_std\"] = df[cols].std(axis=1)\n",
        "#            df[f\"feature_{group}_skew\"] = df[cols].skew(axis=1)\n",
        "#        return df\n",
        "\n",
        "#def min_max_stats(df: pd.DataFrame) -> pd.DataFrame:\n",
        "#        mini=MinMaxScaler()\n",
        "#        for group in [\"intelligence\", \"wisdom\", \"charisma\", \"dexterity\", \"strength\", \"constitution\"]:\n",
        "#            df[f\"feature_{group}_mean\"] = mini.fit_transform(df[f\"feature_{group}_mean\"].values.reshape(-1,1))\n",
        "#            df[f\"feature_{group}_std\"] = mini.fit_transform(df[f\"feature_{group}_std\"].values.reshape(-1,1))\n",
        "#            df[f\"feature_{group}_skew\"] = mini.fit_transform(df[f\"feature_{group}_skew\"].values.reshape(-1,1))\n",
        "#        return df \n",
        "\n",
        "import scipy\n",
        "from sklearn.preprocessing import LabelEncoder\n",
        "\n",
        "def eraencode(df,col):\n",
        "    lb=LabelEncoder()\n",
        "    df[col]=lb.fit_transform(df[col])\n",
        "    return df\n",
        "\n",
        "def interpscale(arr,minv,maxv):\n",
        "    return np.interp(arr,(np.min(minv),np.max(maxv)),(minv,maxv))\n",
        "\n",
        "\n",
        "def _neutralize(df, preds, proportion):\n",
        "    scores = preds\n",
        "    exposures = df.values\n",
        "    scores = scores - proportion * exposures.dot(np.linalg.pinv(exposures).dot(scores))\n",
        "    return scores / scores.std()\n",
        "def _normalize(df):\n",
        "    X = (df.rank(method=\"first\") - 0.5) / len(df)\n",
        "    return scipy.stats.norm.ppf(X)\n",
        "def normalize_and_neutralize(df, preds, feats, proportion=1.0):\n",
        "    # Convert the scores to a normal distribution\n",
        "    df[preds] = _normalize(df[preds])\n",
        "    df[preds] = _neutralize(df, preds, feats, proportion)\n",
        "    return df[preds]\n",
        "def ar1(x):\n",
        "    return np.corrcoef(x[:-1], x[1:])[0,1]\n",
        "\n",
        "def autocorr_penalty(x):\n",
        "    n = len(x)\n",
        "    p = np.abs(ar1(x))\n",
        "    return np.sqrt(1 + 2*np.sum([((n - i)/n)*p**i for i in range(1,n)]))\n",
        "\n",
        "def smart_sharpe(x):\n",
        "    return (np.mean(x)/(np.std(x, ddof=1) * autocorr_penalty(x)) * np.sqrt(12))\n",
        "\n",
        "def numerai_sharpe(x):\n",
        "    return ((np.mean(x) - 0.010415154) / np.std(x)) * np.sqrt(12)\n",
        "\n",
        "def correlation_score(y_true, y_pred):\n",
        "    return np.corrcoef(y_true, y_pred)[0,1]\n",
        "\n",
        "\n",
        "# spread out target to 1, 2, 3, 4\n",
        "train=eraencode(X_train,'era')\n",
        "val=eraencode(X_val,'era')\n",
        "#test=eraencode(X_test,'era')\n",
        "\n",
        "\n",
        "y_train_int= (y_train *4).astype(np.int32)\n",
        "y_val_int = (y_val*4).astype(np.int32)\n",
        "\n",
        "\n",
        "\n",
        "#trainm= min_max_stats(train)\n",
        "#valm=min_max_stats(val)"
      ]
    },
    {
      "cell_type": "code",
      "execution_count": null,
      "metadata": {
        "colab": {
          "base_uri": "https://localhost:8080/"
        },
        "id": "ZwqWdNB1qwYN",
        "outputId": "ef7490a5-73ab-4fcd-bfc1-80b1101ce379"
      },
      "outputs": [
        {
          "output_type": "execute_result",
          "data": {
            "text/plain": [
              "era                      34.907755\n",
              "feature_wisdom29          0.353596\n",
              "feature_charisma83        0.353596\n",
              "feature_intelligence4     0.353596\n",
              "feature_intelligence1     0.353596\n",
              "                           ...    \n",
              "feature_strength17        0.284223\n",
              "feature_charisma47        0.265371\n",
              "feature_charisma25        0.265371\n",
              "feature_strength38        0.180383\n",
              "feature_strength20        0.180383\n",
              "Length: 311, dtype: float64"
            ]
          },
          "metadata": {},
          "execution_count": 4
        }
      ],
      "source": [
        "sd = train.std().sort_values(ascending = False)\n",
        "sd"
      ]
    },
    {
      "cell_type": "code",
      "execution_count": null,
      "metadata": {
        "id": "8CbGKXvIq8kr"
      },
      "outputs": [],
      "source": [
        "highsdcol=sd[sd > 0.345].index"
      ]
    },
    {
      "cell_type": "code",
      "execution_count": null,
      "metadata": {
        "id": "V1cgPps2q_B-"
      },
      "outputs": [],
      "source": [
        "train2=train[highsdcol]\n",
        "val2=val[highsdcol]\n",
        "#test2=test[highsdcol]"
      ]
    },
    {
      "cell_type": "code",
      "execution_count": null,
      "metadata": {
        "colab": {
          "base_uri": "https://localhost:8080/"
        },
        "id": "EAceBpHnMfTG",
        "outputId": "e8ede6e6-a2bb-42b4-9552-1a6b98b44a1b"
      },
      "outputs": [
        {
          "output_type": "stream",
          "name": "stdout",
          "text": [
            "Looking in indexes: https://pypi.org/simple, https://us-python.pkg.dev/colab-wheels/public/simple/\n",
            "Collecting catboost\n",
            "  Downloading catboost-1.1.1-cp38-none-manylinux1_x86_64.whl (76.6 MB)\n",
            "\u001b[2K     \u001b[90m━━━━━━━━━━━━━━━━━━━━━━━━━━━━━━━━━━━━━━━━\u001b[0m \u001b[32m76.6/76.6 MB\u001b[0m \u001b[31m9.5 MB/s\u001b[0m eta \u001b[36m0:00:00\u001b[0m\n",
            "\u001b[?25hRequirement already satisfied: lightgbm in /usr/local/lib/python3.8/dist-packages (2.2.3)\n",
            "Requirement already satisfied: numpy>=1.16.0 in /usr/local/lib/python3.8/dist-packages (from catboost) (1.21.6)\n",
            "Requirement already satisfied: pandas>=0.24.0 in /usr/local/lib/python3.8/dist-packages (from catboost) (1.3.5)\n",
            "Requirement already satisfied: six in /usr/local/lib/python3.8/dist-packages (from catboost) (1.15.0)\n",
            "Requirement already satisfied: matplotlib in /usr/local/lib/python3.8/dist-packages (from catboost) (3.2.2)\n",
            "Requirement already satisfied: scipy in /usr/local/lib/python3.8/dist-packages (from catboost) (1.7.3)\n",
            "Requirement already satisfied: plotly in /usr/local/lib/python3.8/dist-packages (from catboost) (5.5.0)\n",
            "Requirement already satisfied: graphviz in /usr/local/lib/python3.8/dist-packages (from catboost) (0.10.1)\n",
            "Requirement already satisfied: scikit-learn in /usr/local/lib/python3.8/dist-packages (from lightgbm) (1.0.2)\n",
            "Requirement already satisfied: python-dateutil>=2.7.3 in /usr/local/lib/python3.8/dist-packages (from pandas>=0.24.0->catboost) (2.8.2)\n",
            "Requirement already satisfied: pytz>=2017.3 in /usr/local/lib/python3.8/dist-packages (from pandas>=0.24.0->catboost) (2022.7)\n",
            "Requirement already satisfied: pyparsing!=2.0.4,!=2.1.2,!=2.1.6,>=2.0.1 in /usr/local/lib/python3.8/dist-packages (from matplotlib->catboost) (3.0.9)\n",
            "Requirement already satisfied: kiwisolver>=1.0.1 in /usr/local/lib/python3.8/dist-packages (from matplotlib->catboost) (1.4.4)\n",
            "Requirement already satisfied: cycler>=0.10 in /usr/local/lib/python3.8/dist-packages (from matplotlib->catboost) (0.11.0)\n",
            "Requirement already satisfied: tenacity>=6.2.0 in /usr/local/lib/python3.8/dist-packages (from plotly->catboost) (8.1.0)\n",
            "Requirement already satisfied: joblib>=0.11 in /usr/local/lib/python3.8/dist-packages (from scikit-learn->lightgbm) (1.2.0)\n",
            "Requirement already satisfied: threadpoolctl>=2.0.0 in /usr/local/lib/python3.8/dist-packages (from scikit-learn->lightgbm) (3.1.0)\n",
            "Successfully installed catboost-1.1.1\n"
          ]
        }
      ],
      "source": [
        "!pip install catboost lightgbm"
      ]
    },
    {
      "cell_type": "code",
      "source": [
        "##Xu=[1,2,3,4,5,6,7,8,9,10]\n",
        "#yu=[0,1,0,1,0,1,0,1,0,1]\n",
        "#param_distribution = {\n",
        "  #  'l2_leaf_reg': [1, 3, 5, 7, 9]\n",
        "#}\n",
        "#est=CatBoostRegressor()\n",
        "#e=est.grid_search(param_distribution,Xu,yu)\n"
      ],
      "metadata": {
        "id": "CNY2ehNTiOQW"
      },
      "execution_count": null,
      "outputs": []
    },
    {
      "cell_type": "code",
      "source": [
        "#est.predict([13])"
      ],
      "metadata": {
        "id": "ggKpZ_qPi-z5"
      },
      "execution_count": null,
      "outputs": []
    },
    {
      "cell_type": "code",
      "source": [
        "#e['params']"
      ],
      "metadata": {
        "id": "ox5LupuZpGuN"
      },
      "execution_count": null,
      "outputs": []
    },
    {
      "cell_type": "code",
      "source": [
        "#est.get_all_params()"
      ],
      "metadata": {
        "id": "I69KcM1Cm3ZD"
      },
      "execution_count": null,
      "outputs": []
    },
    {
      "cell_type": "code",
      "execution_count": null,
      "metadata": {
        "id": "FxkJcCc_BJfV"
      },
      "outputs": [],
      "source": [
        "from catboost import CatBoostRegressor\n",
        "from lightgbm import LGBMRegressor as lgb\n",
        "from sklearn.model_selection import TimeSeriesSplit, GridSearchCV\n",
        "%timeit\n",
        "def ensemble_train_val_predict(init_paramsl,init_paramsc,gridl,gridc,X_train,y_train,X_val,y_val,Npochs = 1,N_Fold= 10,cvl=4,models_app=True,plt=False,neut=False):\n",
        "    \n",
        "    cbr=CatBoostRegressor(**init_paramsc)\n",
        "    lg = lgb(**init_paramsl)\n",
        "    \n",
        "    if models_app:\n",
        "        models=dict()\n",
        "    \n",
        "    pred_c=np.zeros(len(X_val['era'].values.reshape(-1,1)))\n",
        "    pred_l=np.zeros(len(X_val['era'].values.reshape( -1,1)))\n",
        "  #  pred_lt=np.zeros( len(X_train['era'].values.reshape( -1,1)))\n",
        "    \n",
        "    #k = KFold(N_Fold)\n",
        "    tss=TimeSeriesSplit(n_splits=N_Fold)\n",
        "\n",
        "    \n",
        "    for i in range(Npochs):\n",
        "        for fold_, (tr_idx,val_idx) in enumerate(tss.split(X_train,y_train)):\n",
        "            \n",
        "            glg= GridSearchCV(estimator=lg,param_grid=gridl)\n",
        "            glg.fit(X_train.iloc[tr_idx],y_train.iloc[tr_idx])\n",
        "            \n",
        "            cbr.grid_search(gridc, X_train,y_train,plot=plt) # grid search updates the parameters of the class instance no worries to update with pointer from dict\n",
        "            cbr.set_params()\n",
        "            \n",
        "       #     \n",
        "            print(\"for LightGBMReg @ {} Fold the Training Corr is {}\".format(fold_,correlation_score(y_train.iloc[tr_idx],glg.predict(X_train.iloc[tr_idx]))))\n",
        "            print(\"for LightGBMReg @ sub {} Fold the Val Corr is {}\".format(fold_,correlation_score(y_train.iloc[val_idx],glg.predict(X_train.iloc[val_idx]))))\n",
        "\n",
        "\n",
        "            print(\"for CatBoostReg @ {} Fold the Training Corr is {}\".format(fold_,correlation_score(y_train.iloc[tr_idx],cbr.predict(X_train.iloc[tr_idx]))))\n",
        "            print(\"for CatBoostReg @ sub {} Fold the Val Corr is {}\".format(fold_,correlation_score(y_train.iloc[val_idx],cbr.predict(X_train.iloc[val_idx]))))\n",
        "      #  print(\"for light gbm the Val Corr is {}\".format(correlation_score(y_train,glg.predict(X_train))))            \n",
        "            pred_l+= glg.predict(X_val)/N_Fold \n",
        "            pred_c+= cbr.predict(X_val)/N_Fold\n",
        "            #pred_l+= glg.predict(X_test)/N_Fold\n",
        "            \n",
        "         #   pred_lt += glg.predict(X_train)\n",
        "            if models_app:\n",
        "                cur_key1='LightGBMReg Model @ TS Fold'+str(fold_)\n",
        "                cur_key2='CatBoostReg Model @ TS Fold' + str(fold_)\n",
        "                # append to dict for reproduction X_test is too much RAM seperate process VM\n",
        "                models[cur_key1]=(glg)\n",
        "                models[cur_key2]=(cbr)\n",
        "    # end of epoch final func protocol \n",
        "    \n",
        "    predCL=np.mean([pred_c,pred_l],axis = 0)\n",
        "    \n",
        " #   pred2t=interpscale(pred_lt,0 ,1 )\n",
        " #   print(\" for light gbm the Training Corr is { }\".format(correlation_score(y_train,pred2t)))\n",
        "    print(\" for LightGBMReg the Val Corr is {}\".format(correlation_score(y_val,pred_l)))\n",
        "    print(\" for CatBoostReg the Val Cross is {}\".format(correlation_score(y_val,pred_c)))\n",
        "    print(\" for bagged ensemble of LightGBMReg + CatBoostReg the Val Cross is {}\".format(correlation_score(y_val,predCL)))\n",
        "\n",
        "\n",
        "    if neut:\n",
        "        prop=np.arange(0.05,1,0.05)\n",
        "        \n",
        "        predneut_l = [correlation_score(y_val,_neutralize(X_val,pred_l,l)) l for l in prop ]\n",
        "        neutindex_l=np.where(predneut_l==np.max(predneut_l ))\n",
        "        print(\" for LightGBMReg Neutralized the Val Corr is {} with proportion {}\".format(predneut_l[neutindex_l], prop[neutindex_l]))\n",
        "\n",
        "\n",
        "        predneut_c = [correlation_score(y_val,_neutralize(X_val,pred_c,c)) c for c in prop ]\n",
        "        neutindex_c=np.where(predneut_c==np.max(predneut_c ))\n",
        "        print(\" for CatBoostReg Neutralized the Val Corr is {} with proportion {}\".format(predneut_c[neutindex_c], prop[neutindex_c]))\n",
        "\n",
        "\n",
        "        predneut_cl = [correlation_score(y_val,_neutralize(X_val,pred_CL,cl)) cl for cl in prop ]\n",
        "        neutindex_cl=np.where(predneut_cl==np.max(predneut_cl ))\n",
        "        print(\" for CatBoostReg Neutralized the Val Corr is {} with proportion {}\".format(predneut_cl[neutindex_cl], prop[neutindex_cl]))\n",
        "        pass\n",
        "\n",
        "       \n",
        "\n",
        "    # device which model to save afterwards\n",
        "    if models_app:\n",
        "        return models\n",
        "\n",
        "#def submit_predictions(modeldict,model_key,X_test):\n",
        "#    clf= modeldict[model_key]\n",
        "\n",
        "\n",
        "\n",
        "\n",
        "\n",
        "init_paramsl = {\n",
        "    'metric':'mse'\n",
        "    \n",
        "}\n",
        "\n",
        "init_paramsc={ 'loss_function':'RMSE'}\n",
        "\n",
        "gridc = {\n",
        "    'learning_rate': [0.03, 0.01, 0.03, 0.009],\n",
        "  #  'bagging_temperature': [0, 1,5,10],\n",
        "     'max_depth': np.arange(5,20,5),\n",
        "     'n_estimators':np.arange(100,250,50),\n",
        "  #   'num_leaves':np.arange(25,40,5)\n",
        "     }\n",
        "\n",
        "gridl ={'reg_alpha': [0.1, 0.5],\n",
        "    'lambda_l1': [0, 1, 1.5],\n",
        "    'lambda_l2': [0, 1],\n",
        "    'max_depth': np.arange(5,20,5),\n",
        "    'n_estimators':np.arange(100,250,50),\n",
        "    'learning_rate': [0.03, 0.01, 0.03, 0.009],\n",
        "    'num_leaves':np.arange(25,40,5)\n",
        "    }\n",
        "\n",
        "\n",
        "resdict=ensemble_train_val_predict(init_paramsl,init_paramsc,gridl,gridc,train2,y_train,val2,y_val)"
      ]
    },
    {
      "cell_type": "code",
      "execution_count": null,
      "metadata": {
        "colab": {
          "background_save": true
        },
        "id": "14EwNMPxJBvS"
      },
      "outputs": [],
      "source": []
    }
  ],
  "metadata": {
    "colab": {
      "machine_shape": "hm",
      "provenance": []
    },
    "kernelspec": {
      "display_name": "Python 3",
      "name": "python3"
    }
  },
  "nbformat": 4,
  "nbformat_minor": 0
}